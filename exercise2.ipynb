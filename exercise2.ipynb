{
 "cells": [
  {
   "cell_type": "markdown",
   "metadata": {},
   "source": [
    "# Assignment No 2\n",
    "## Paper Number 7\n",
    "## Title: Title here\n",
    "text here"
   ]
  },
  {
   "cell_type": "markdown",
   "metadata": {},
   "source": [
    "------------------------------\n",
    "Code to make initialization easier, can be ignored since requirements.txt is not handed in."
   ]
  },
  {
   "cell_type": "code",
   "execution_count": 1,
   "metadata": {},
   "outputs": [
    {
     "name": "stdout",
     "output_type": "stream",
     "text": [
      "Requirement already satisfied: numpy in ./.venv/lib/python3.12/site-packages (from -r requirements.txt (line 1)) (2.2.5)\n",
      "Requirement already satisfied: pandas in ./.venv/lib/python3.12/site-packages (from -r requirements.txt (line 2)) (2.2.3)\n",
      "Requirement already satisfied: seaborn in ./.venv/lib/python3.12/site-packages (from -r requirements.txt (line 3)) (0.13.2)\n",
      "Requirement already satisfied: matplotlib in ./.venv/lib/python3.12/site-packages (from -r requirements.txt (line 4)) (3.10.3)\n",
      "Requirement already satisfied: mesa>3.0.0 in ./.venv/lib/python3.12/site-packages (from -r requirements.txt (line 5)) (3.2.0)\n",
      "Requirement already satisfied: networkx in ./.venv/lib/python3.12/site-packages (from -r requirements.txt (line 6)) (3.4.2)\n",
      "Requirement already satisfied: python-dateutil>=2.8.2 in ./.venv/lib/python3.12/site-packages (from pandas->-r requirements.txt (line 2)) (2.9.0.post0)\n",
      "Requirement already satisfied: pytz>=2020.1 in ./.venv/lib/python3.12/site-packages (from pandas->-r requirements.txt (line 2)) (2025.2)\n",
      "Requirement already satisfied: tzdata>=2022.7 in ./.venv/lib/python3.12/site-packages (from pandas->-r requirements.txt (line 2)) (2025.2)\n",
      "Requirement already satisfied: contourpy>=1.0.1 in ./.venv/lib/python3.12/site-packages (from matplotlib->-r requirements.txt (line 4)) (1.3.2)\n",
      "Requirement already satisfied: cycler>=0.10 in ./.venv/lib/python3.12/site-packages (from matplotlib->-r requirements.txt (line 4)) (0.12.1)\n",
      "Requirement already satisfied: fonttools>=4.22.0 in ./.venv/lib/python3.12/site-packages (from matplotlib->-r requirements.txt (line 4)) (4.58.0)\n",
      "Requirement already satisfied: kiwisolver>=1.3.1 in ./.venv/lib/python3.12/site-packages (from matplotlib->-r requirements.txt (line 4)) (1.4.8)\n",
      "Requirement already satisfied: packaging>=20.0 in ./.venv/lib/python3.12/site-packages (from matplotlib->-r requirements.txt (line 4)) (25.0)\n",
      "Requirement already satisfied: pillow>=8 in ./.venv/lib/python3.12/site-packages (from matplotlib->-r requirements.txt (line 4)) (11.2.1)\n",
      "Requirement already satisfied: pyparsing>=2.3.1 in ./.venv/lib/python3.12/site-packages (from matplotlib->-r requirements.txt (line 4)) (3.2.3)\n",
      "Requirement already satisfied: scipy in ./.venv/lib/python3.12/site-packages (from mesa>3.0.0->-r requirements.txt (line 5)) (1.15.3)\n",
      "Requirement already satisfied: tqdm in ./.venv/lib/python3.12/site-packages (from mesa>3.0.0->-r requirements.txt (line 5)) (4.67.1)\n",
      "Requirement already satisfied: six>=1.5 in ./.venv/lib/python3.12/site-packages (from python-dateutil>=2.8.2->pandas->-r requirements.txt (line 2)) (1.17.0)\n",
      "Note: you may need to restart the kernel to use updated packages.\n"
     ]
    }
   ],
   "source": [
    "%pip install -r requirements.txt"
   ]
  },
  {
   "cell_type": "markdown",
   "metadata": {},
   "source": [
    "# Import Dependancies\n",
    "This part of the code imports necessary Python libraries for the implementation of the Naming Game model:\n",
    "\n",
    "- Mesa: An agent-based modeling framework that provides a structure for implementing the model\n",
    "- NumPy: For numerical operations and array handling\n",
    "- Pandas: For data manipulation and analysis\n",
    "- Seaborn: For statistical data visualization\n",
    "- Matplotlib: For creating plots and graphs\n",
    "- Random: For generating random values and selections\n",
    "- Scipy: Installed as part of Mesa and used later to fit certain distributions to histogram bins."
   ]
  },
  {
   "cell_type": "code",
   "execution_count": 2,
   "metadata": {},
   "outputs": [
    {
     "name": "stdout",
     "output_type": "stream",
     "text": [
      "Python 3.12.10\n",
      "mesa version: 3.2.0\n"
     ]
    }
   ],
   "source": [
    "#!/usr/bin/env python3.11\n",
    "!python --version\n",
    "\n",
    "import mesa\n",
    "print(f\"mesa version: {mesa.__version__}\")\n",
    "import numpy as np\n",
    "import pandas as pd\n",
    "import seaborn as sns\n",
    "import matplotlib.pyplot as plt\n",
    "import random\n",
    "\n",
    "import networkx as nx\n",
    "\n",
    "DEBUGSTEP = True"
   ]
  },
  {
   "cell_type": "markdown",
   "metadata": {},
   "source": [
    "Create random Graph"
   ]
  },
  {
   "cell_type": "code",
   "execution_count": null,
   "metadata": {},
   "outputs": [],
   "source": [
    "# code for random graph"
   ]
  },
  {
   "cell_type": "markdown",
   "metadata": {},
   "source": [
    "Create Agent"
   ]
  },
  {
   "cell_type": "code",
   "execution_count": 16,
   "metadata": {},
   "outputs": [],
   "source": [
    "from mesa import Agent\n",
    "\n",
    "# code for agents\n",
    "class GraphAgent(Agent):\n",
    "    def __init__(self, model, starting_state, possible_states):\n",
    "        super().__init__(model)\n",
    "        self.state = starting_state\n",
    "        self.next_state = starting_state\n",
    "        self.possible_states = possible_states\n",
    "        self.theta = 0.5 #TODO make function to get random value here or in initialization\n",
    "\n",
    "    def step(self):\n",
    "        # get neighbors and if a certain percentage is above a chosen threshold change next state\n",
    "        neighbors = self.model.grid.get_neighbors(self.pos, include_center=False) #TODO check if it is detecting the neigbours correctly and not only giving back 0\n",
    "        if not len(neighbors):\n",
    "            return\n",
    "        for state in self.possible_states:\n",
    "            changed_state_amount = len([neighbor for neighbor in neighbors if neighbor.state == state])\n",
    "            percentage_changed = changed_state_amount / len(neighbors)\n",
    "            if percentage_changed > self.theta:\n",
    "                self.next_state = state\n",
    "                break\n",
    "            else:\n",
    "                self.next_state = self.state\n",
    "    \n",
    "    def advance(self):\n",
    "        self.state = self.next_state"
   ]
  },
  {
   "cell_type": "markdown",
   "metadata": {},
   "source": [
    "Create Model"
   ]
  },
  {
   "cell_type": "code",
   "execution_count": 8,
   "metadata": {},
   "outputs": [],
   "source": [
    "from mesa.space import NetworkGrid\n",
    "from mesa import Model\n",
    "\n",
    "# code for model\n",
    "class GraphModel(Model):\n",
    "    def __init__(self, num_nodes=20, avg_degree=2, starting_state=0, possible_states=[0,1], seed=None):\n",
    "        super().__init__(seed=seed)\n",
    "        self.num_agents = num_nodes\n",
    "\n",
    "        # Generate a sparse random graph using NetworkX\n",
    "        p_uniform = avg_degree / (num_nodes - 1)\n",
    "        self.G = nx.fast_gnp_random_graph(num_nodes, p_uniform, 42)\n",
    "        self.grid = NetworkGrid(self.G)\n",
    "\n",
    "        # Create an agent for each node\n",
    "        GraphAgent.create_agents(model=self, n=num_nodes, starting_state=starting_state, possible_states=possible_states)\n",
    "        for i, agent in enumerate(self.agents):\n",
    "            self.grid.place_agent(agent, i)\n",
    "\n",
    "    def step(self):\n",
    "        self.agents.do(\"step\")\n",
    "        self.agents.do(\"advance\")"
   ]
  },
  {
   "cell_type": "markdown",
   "metadata": {},
   "source": [
    "Run Model"
   ]
  },
  {
   "cell_type": "code",
   "execution_count": 5,
   "metadata": {},
   "outputs": [],
   "source": [
    "def run_model(N, D, t, starting_state, possible_states, iteration):\n",
    "    print(f\"Starting model iteration: {iteration}\")\n",
    "    model = GraphModel(N, D, starting_state, possible_states)\n",
    "    for i in range(t):\n",
    "        if i % int(t/10) == 0 and DEBUGSTEP:\n",
    "            print(f\"iter: {iteration}, step: {i}\")\n",
    "            \n",
    "        model.step()\n",
    "\n",
    "    #model_data = model.datacollector.get_model_vars_dataframe()\n",
    "    #agent_data = model.agent_datacollector.get_agent_vars_dataframe()\n",
    "    #return model_data, agent_data"
   ]
  },
  {
   "cell_type": "code",
   "execution_count": 17,
   "metadata": {},
   "outputs": [
    {
     "name": "stdout",
     "output_type": "stream",
     "text": [
      "Starting model iteration: 1\n",
      "iter: 1, step: 0\n",
      "iter: 1, step: 10\n",
      "iter: 1, step: 20\n",
      "iter: 1, step: 30\n",
      "iter: 1, step: 40\n",
      "iter: 1, step: 50\n",
      "iter: 1, step: 60\n",
      "iter: 1, step: 70\n",
      "iter: 1, step: 80\n",
      "iter: 1, step: 90\n"
     ]
    }
   ],
   "source": [
    "N = 1000\n",
    "D = 2\n",
    "t = 100\n",
    "\n",
    "STARTING_STATE = 0\n",
    "POSSIBLE_STATES = [0,1]\n",
    "\n",
    "run_model(N, D, t, STARTING_STATE, POSSIBLE_STATES, 1)"
   ]
  }
 ],
 "metadata": {
  "kernelspec": {
   "display_name": ".venv",
   "language": "python",
   "name": "python3"
  },
  "language_info": {
   "codemirror_mode": {
    "name": "ipython",
    "version": 3
   },
   "file_extension": ".py",
   "mimetype": "text/x-python",
   "name": "python",
   "nbconvert_exporter": "python",
   "pygments_lexer": "ipython3",
   "version": "3.12.10"
  }
 },
 "nbformat": 4,
 "nbformat_minor": 4
}
