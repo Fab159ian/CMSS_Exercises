{
 "cells": [
  {
   "cell_type": "code",
   "execution_count": 1,
   "metadata": {},
   "outputs": [
    {
     "name": "stdout",
     "output_type": "stream",
     "text": [
      "Requirement already satisfied: numpy in ./.venv/lib/python3.12/site-packages (from -r requirements.txt (line 1)) (2.2.4)\n",
      "Requirement already satisfied: pandas in ./.venv/lib/python3.12/site-packages (from -r requirements.txt (line 2)) (2.2.3)\n",
      "Requirement already satisfied: seaborn in ./.venv/lib/python3.12/site-packages (from -r requirements.txt (line 3)) (0.13.2)\n",
      "Requirement already satisfied: matplotlib in ./.venv/lib/python3.12/site-packages (from -r requirements.txt (line 4)) (3.10.1)\n",
      "Requirement already satisfied: mesa>3.0.0 in ./.venv/lib/python3.12/site-packages (from -r requirements.txt (line 5)) (3.1.5)\n",
      "Requirement already satisfied: python-dateutil>=2.8.2 in ./.venv/lib/python3.12/site-packages (from pandas->-r requirements.txt (line 2)) (2.9.0.post0)\n",
      "Requirement already satisfied: pytz>=2020.1 in ./.venv/lib/python3.12/site-packages (from pandas->-r requirements.txt (line 2)) (2025.2)\n",
      "Requirement already satisfied: tzdata>=2022.7 in ./.venv/lib/python3.12/site-packages (from pandas->-r requirements.txt (line 2)) (2025.2)\n",
      "Requirement already satisfied: contourpy>=1.0.1 in ./.venv/lib/python3.12/site-packages (from matplotlib->-r requirements.txt (line 4)) (1.3.2)\n",
      "Requirement already satisfied: cycler>=0.10 in ./.venv/lib/python3.12/site-packages (from matplotlib->-r requirements.txt (line 4)) (0.12.1)\n",
      "Requirement already satisfied: fonttools>=4.22.0 in ./.venv/lib/python3.12/site-packages (from matplotlib->-r requirements.txt (line 4)) (4.57.0)\n",
      "Requirement already satisfied: kiwisolver>=1.3.1 in ./.venv/lib/python3.12/site-packages (from matplotlib->-r requirements.txt (line 4)) (1.4.8)\n",
      "Requirement already satisfied: packaging>=20.0 in ./.venv/lib/python3.12/site-packages (from matplotlib->-r requirements.txt (line 4)) (24.2)\n",
      "Requirement already satisfied: pillow>=8 in ./.venv/lib/python3.12/site-packages (from matplotlib->-r requirements.txt (line 4)) (11.2.1)\n",
      "Requirement already satisfied: pyparsing>=2.3.1 in ./.venv/lib/python3.12/site-packages (from matplotlib->-r requirements.txt (line 4)) (3.2.3)\n",
      "Requirement already satisfied: scipy in ./.venv/lib/python3.12/site-packages (from mesa>3.0.0->-r requirements.txt (line 5)) (1.15.2)\n",
      "Requirement already satisfied: tqdm in ./.venv/lib/python3.12/site-packages (from mesa>3.0.0->-r requirements.txt (line 5)) (4.67.1)\n",
      "Requirement already satisfied: six>=1.5 in ./.venv/lib/python3.12/site-packages (from python-dateutil>=2.8.2->pandas->-r requirements.txt (line 2)) (1.17.0)\n",
      "Note: you may need to restart the kernel to use updated packages.\n"
     ]
    }
   ],
   "source": [
    "%pip install -r requirements.txt"
   ]
  },
  {
   "cell_type": "markdown",
   "metadata": {},
   "source": [
    "# Import Dependancies"
   ]
  },
  {
   "cell_type": "code",
   "execution_count": 2,
   "metadata": {},
   "outputs": [
    {
     "name": "stdout",
     "output_type": "stream",
     "text": [
      "Python 3.12.6\n",
      "mesa version: 3.1.5\n"
     ]
    }
   ],
   "source": [
    "#!/usr/bin/env python3.11\n",
    "!python --version\n",
    "\n",
    "import mesa\n",
    "print(f\"mesa version: {mesa.__version__}\")\n",
    "import numpy as np\n",
    "import pandas as pd\n",
    "import seaborn as sns\n",
    "import matplotlib.pyplot as plt\n",
    "import random\n",
    "\n",
    "DEBUGVOCAB = False\n",
    "DEBUGSTEP = False"
   ]
  },
  {
   "cell_type": "markdown",
   "metadata": {},
   "source": [
    "# The Naming Game\n",
    "\n",
    "text"
   ]
  },
  {
   "cell_type": "code",
   "execution_count": 3,
   "metadata": {},
   "outputs": [],
   "source": [
    "#ideas for own unique approach:\n",
    "# multiple objects and graph how time until vocab convergence changes?\n",
    "# different lengths of words and graph difference there?\n",
    "# limit amount of symbols for words?\n",
    "# "
   ]
  },
  {
   "cell_type": "markdown",
   "metadata": {},
   "source": [
    "Create Random Word"
   ]
  },
  {
   "cell_type": "code",
   "execution_count": 4,
   "metadata": {},
   "outputs": [],
   "source": [
    "from random import choice\n",
    "from string import ascii_uppercase\n",
    "\n",
    "def create_word(min_length=6, max_length=10):\n",
    "    new_word = ''.join(choice(ascii_uppercase) for _ in range(np.random.randint(min_length, max_length)))\n",
    "    return new_word"
   ]
  },
  {
   "cell_type": "markdown",
   "metadata": {},
   "source": [
    "Create Agent"
   ]
  },
  {
   "cell_type": "code",
   "execution_count": 5,
   "metadata": {},
   "outputs": [],
   "source": [
    "class NamingGameAgent(mesa.Agent):\n",
    "    def __init__(self, model, m_objects=1):\n",
    "        super().__init__(model)\n",
    "        self._m_objects = m_objects\n",
    "        self.vocabulary = dict()\n",
    "\n",
    "    def choose_object_and_word(self):\n",
    "        #chosen from range will always choose 0 index object value, so m_objects = 1 -> chosen object is 0\n",
    "        chosen_object = np.random.randint(0, self._m_objects)\n",
    "        \n",
    "        if chosen_object in self.vocabulary.keys():\n",
    "            chosen_word = random.choice(self.vocabulary[chosen_object])\n",
    "        else:\n",
    "            chosen_word = create_word()\n",
    "            self.vocabulary[chosen_object] = [chosen_word]\n",
    "        return chosen_object, chosen_word\n",
    "\n",
    "    def recognize_word(self, chosen_object, chosen_word):\n",
    "        if chosen_object not in self.vocabulary.keys():\n",
    "            return False\n",
    "        if chosen_word in self.vocabulary[chosen_object]:\n",
    "            return True\n",
    "        else:\n",
    "            return False\n",
    "\n",
    "    def agree_to_word(self, chosen_object, chosen_word):\n",
    "        self.vocabulary[chosen_object] = [chosen_word]\n",
    "\n",
    "    def add_word(self, chosen_object, chosen_word):\n",
    "        if chosen_object not in self.vocabulary.keys():\n",
    "            self.vocabulary[chosen_object] = [chosen_word]\n",
    "        else:\n",
    "            self.vocabulary[chosen_object].append(chosen_word)\n",
    "\n",
    "    def retrieve_vocabulary(self):\n",
    "        return [f\"Object: {key} - words: {value}\" for key, value in self.vocabulary.items()]\n",
    "    \n",
    "    def word_amount(self):\n",
    "        return sum([len(word_list) for word_list in self.vocabulary.values()])"
   ]
  },
  {
   "cell_type": "markdown",
   "metadata": {},
   "source": [
    "Class for computing successrate"
   ]
  },
  {
   "cell_type": "code",
   "execution_count": 6,
   "metadata": {},
   "outputs": [],
   "source": [
    "class SuccessRate(list):\n",
    "    def __init__(self, maxlen=10):\n",
    "        super().__init__()\n",
    "        self._maxlen = maxlen\n",
    "    \n",
    "    def add(self, value):\n",
    "        if type(value) != int:\n",
    "            raise TypeError(\"Only integers are allowed in SuccessRate\")\n",
    "        if len(self) >= self._maxlen:\n",
    "            self.pop(0)\n",
    "        self.append(value)\n",
    "    \n",
    "    def get_rate(self):\n",
    "        return sum(self)/len(self) if self else 0\n",
    "\n",
    "    def get_values(self):\n",
    "        return list(self)"
   ]
  },
  {
   "cell_type": "markdown",
   "metadata": {},
   "source": [
    "Create Model"
   ]
  },
  {
   "cell_type": "code",
   "execution_count": 7,
   "metadata": {},
   "outputs": [],
   "source": [
    "from mesa.datacollection import DataCollector\n",
    "\n",
    "class NamingGameModel(mesa.Model):\n",
    "    def __init__(self, N=100, m_objects=1, seed=None):\n",
    "        super().__init__(seed=seed)\n",
    "        self.max_words = 0\n",
    "        self.max_time = 0\n",
    "        self.conv_time = 0\n",
    "        self.num_agents = N\n",
    "        self.success_rate = SuccessRate(maxlen=200)\n",
    "        self.datacollector = DataCollector(\n",
    "            agent_reporters={\"Vocabulary\": NamingGameAgent.retrieve_vocabulary, \n",
    "                             \"Word_amount\": NamingGameAgent.word_amount},\n",
    "            model_reporters={\"Success_rate\": self.success_rate.get_rate,\n",
    "                             #\"Success_rate_values\": self.success_rate.get_values,\n",
    "                             \"Total_word_amount\": \"total_word_amount\",\n",
    "                             \"Total_unique_word_amount\": \"total_unique_word_amount\"}\n",
    "        )\n",
    "        self.m_objects = m_objects\n",
    "        NamingGameAgent.create_agents(model=self, n=N, m_objects=m_objects)\n",
    "\n",
    "    def update_max_words(self):\n",
    "        if self.max_words < self.total_word_amount:\n",
    "            self.max_words = self.total_word_amount\n",
    "            self.max_time = self.steps\n",
    "    \n",
    "    def check_convergence(self):\n",
    "        if self.total_unique_word_amount == self.m_objects:\n",
    "            self.conv_time = self.steps\n",
    "    \n",
    "    def step(self):\n",
    "        if self.steps % 100 == 0:\n",
    "            self.datacollector.collect(self)\n",
    "            self.update_max_words()\n",
    "            self.check_convergence()\n",
    "        speaker, hearer = random.sample(self.agents, 2)\n",
    "        if self.steps % 100 == 0 and DEBUGVOCAB:\n",
    "            if speaker.word_amount() != 0:\n",
    "                print(speaker.word_amount())\n",
    "                print(speaker.retrieve_vocabulary())\n",
    "        chosen_object, chosen_word = speaker.choose_object_and_word()\n",
    "        if hearer.recognize_word(chosen_object, chosen_word):\n",
    "            self.success_rate.add(1)\n",
    "            speaker.agree_to_word(chosen_object, chosen_word)\n",
    "            hearer.agree_to_word(chosen_object, chosen_word)\n",
    "        else:\n",
    "            self.success_rate.add(0)\n",
    "            hearer.add_word(chosen_object, chosen_word)\n",
    "\n",
    "    @property\n",
    "    def total_word_amount(self):\n",
    "        return sum([agent.word_amount() for agent in self.agents])\n",
    "\n",
    "    @property\n",
    "    def total_unique_word_amount(self):\n",
    "        unique_words = set()\n",
    "        for agent in self.agents:\n",
    "            for word_list in agent.vocabulary.values():\n",
    "                unique_words.update(word_list)\n",
    "        return len(unique_words)\n"
   ]
  },
  {
   "cell_type": "markdown",
   "metadata": {},
   "source": [
    "Run Model function"
   ]
  },
  {
   "cell_type": "code",
   "execution_count": 8,
   "metadata": {},
   "outputs": [],
   "source": [
    "def run_model(N, M, t, iteration):\n",
    "    print(f\"Starting model iteration: {iteration}\")\n",
    "    model = NamingGameModel(N, M)\n",
    "    for i in range(t):\n",
    "        if i % int(t/10) == 0 and DEBUGSTEP:\n",
    "            print(f\"iter: {iteration}, step: {i}\")\n",
    "            \n",
    "        model.step()\n",
    "\n",
    "    agent_data = model.datacollector.get_agent_vars_dataframe()\n",
    "    model_data = model.datacollector.get_model_vars_dataframe()\n",
    "    return agent_data, model_data, model.max_time, model.conv_time"
   ]
  },
  {
   "cell_type": "markdown",
   "metadata": {},
   "source": [
    "Run model configuration for figure 2"
   ]
  },
  {
   "cell_type": "code",
   "execution_count": 9,
   "metadata": {},
   "outputs": [
    {
     "name": "stdout",
     "output_type": "stream",
     "text": [
      "2\n",
      "28\n",
      "Starting model iteration: 1\n",
      "Starting model iteration: 2\n",
      "Starting model iteration: 3\n",
      "Starting model iteration: 4\n",
      "Starting model iteration: 5\n",
      "Starting model iteration: 6\n",
      "Starting model iteration: 7\n",
      "Starting model iteration: 8\n",
      "Starting model iteration: 9\n",
      "Starting model iteration: 10\n",
      "Starting model iteration: 11\n",
      "Starting model iteration: 12\n",
      "Starting model iteration: 13\n",
      "Starting model iteration: 14\n",
      "Starting model iteration: 15\n",
      "Starting model iteration: 16\n",
      "Starting model iteration: 17\n",
      "Starting model iteration: 18\n",
      "Starting model iteration: 19\n",
      "Starting model iteration: 20\n",
      "Starting model iteration: 21\n",
      "Starting model iteration: 22\n",
      "Starting model iteration: 23\n",
      "Starting model iteration: 24\n",
      "Starting model iteration: 25\n",
      "Starting model iteration: 26\n",
      "Starting model iteration: 27\n",
      "Starting model iteration: 28\n",
      "Starting model iteration: 29\n",
      "Starting model iteration: 30\n"
     ]
    }
   ],
   "source": [
    "N = 1000\n",
    "M = 1\n",
    "t = 100000\n",
    "\n",
    "RUNS = 30\n",
    "single_run1 = np.random.randint(0, int(RUNS/4)+1)\n",
    "single_run2 = min(int(RUNS-1), int(RUNS - single_run1))\n",
    "print(single_run1)\n",
    "print(single_run2)\n",
    "\n",
    "model_df = pd.DataFrame()\n",
    "single_run1_agent_data, single_run1_model_data = pd.DataFrame(), pd.DataFrame()\n",
    "single_run2_agent_data, single_run2_model_data = pd.DataFrame(), pd.DataFrame()\n",
    "for i in range(RUNS):\n",
    "    agent_data, model_data, _, _ = run_model(N=N, M=M, t=t, iteration=i+1)\n",
    "    if i == single_run1:\n",
    "        single_run1_agent_data = agent_data\n",
    "        single_run1_model_data = model_data\n",
    "    if i == single_run2:\n",
    "        single_run2_agent_data = agent_data\n",
    "        single_run2_model_data = model_data\n",
    "    \n",
    "    if model_df.empty:\n",
    "        model_df = model_data\n",
    "    else:\n",
    "        model_df = (model_df + model_data) / 2"
   ]
  },
  {
   "cell_type": "markdown",
   "metadata": {},
   "source": [
    "Datacollection Dataframes"
   ]
  },
  {
   "cell_type": "code",
   "execution_count": 10,
   "metadata": {},
   "outputs": [
    {
     "data": {
      "text/html": [
       "<div>\n",
       "<style scoped>\n",
       "    .dataframe tbody tr th:only-of-type {\n",
       "        vertical-align: middle;\n",
       "    }\n",
       "\n",
       "    .dataframe tbody tr th {\n",
       "        vertical-align: top;\n",
       "    }\n",
       "\n",
       "    .dataframe thead th {\n",
       "        text-align: right;\n",
       "    }\n",
       "</style>\n",
       "<table border=\"1\" class=\"dataframe\">\n",
       "  <thead>\n",
       "    <tr style=\"text-align: right;\">\n",
       "      <th></th>\n",
       "      <th></th>\n",
       "      <th>Vocabulary</th>\n",
       "      <th>Word_amount</th>\n",
       "    </tr>\n",
       "    <tr>\n",
       "      <th>Step</th>\n",
       "      <th>AgentID</th>\n",
       "      <th></th>\n",
       "      <th></th>\n",
       "    </tr>\n",
       "  </thead>\n",
       "  <tbody>\n",
       "    <tr>\n",
       "      <th rowspan=\"5\" valign=\"top\">100</th>\n",
       "      <th>1</th>\n",
       "      <td>[Object: 0 - words: ['FWGSPM']]</td>\n",
       "      <td>1</td>\n",
       "    </tr>\n",
       "    <tr>\n",
       "      <th>2</th>\n",
       "      <td>[Object: 0 - words: ['PBHHLFSD']]</td>\n",
       "      <td>1</td>\n",
       "    </tr>\n",
       "    <tr>\n",
       "      <th>3</th>\n",
       "      <td>[]</td>\n",
       "      <td>0</td>\n",
       "    </tr>\n",
       "    <tr>\n",
       "      <th>4</th>\n",
       "      <td>[Object: 0 - words: ['RMZMBGGH']]</td>\n",
       "      <td>1</td>\n",
       "    </tr>\n",
       "    <tr>\n",
       "      <th>5</th>\n",
       "      <td>[]</td>\n",
       "      <td>0</td>\n",
       "    </tr>\n",
       "    <tr>\n",
       "      <th>...</th>\n",
       "      <th>...</th>\n",
       "      <td>...</td>\n",
       "      <td>...</td>\n",
       "    </tr>\n",
       "    <tr>\n",
       "      <th rowspan=\"5\" valign=\"top\">100000</th>\n",
       "      <th>996</th>\n",
       "      <td>[Object: 0 - words: ['SEMYLG']]</td>\n",
       "      <td>1</td>\n",
       "    </tr>\n",
       "    <tr>\n",
       "      <th>997</th>\n",
       "      <td>[Object: 0 - words: ['SEMYLG']]</td>\n",
       "      <td>1</td>\n",
       "    </tr>\n",
       "    <tr>\n",
       "      <th>998</th>\n",
       "      <td>[Object: 0 - words: ['SEMYLG']]</td>\n",
       "      <td>1</td>\n",
       "    </tr>\n",
       "    <tr>\n",
       "      <th>999</th>\n",
       "      <td>[Object: 0 - words: ['SEMYLG']]</td>\n",
       "      <td>1</td>\n",
       "    </tr>\n",
       "    <tr>\n",
       "      <th>1000</th>\n",
       "      <td>[Object: 0 - words: ['SEMYLG']]</td>\n",
       "      <td>1</td>\n",
       "    </tr>\n",
       "  </tbody>\n",
       "</table>\n",
       "<p>1000000 rows × 2 columns</p>\n",
       "</div>"
      ],
      "text/plain": [
       "                                       Vocabulary  Word_amount\n",
       "Step   AgentID                                                \n",
       "100    1          [Object: 0 - words: ['FWGSPM']]            1\n",
       "       2        [Object: 0 - words: ['PBHHLFSD']]            1\n",
       "       3                                       []            0\n",
       "       4        [Object: 0 - words: ['RMZMBGGH']]            1\n",
       "       5                                       []            0\n",
       "...                                           ...          ...\n",
       "100000 996        [Object: 0 - words: ['SEMYLG']]            1\n",
       "       997        [Object: 0 - words: ['SEMYLG']]            1\n",
       "       998        [Object: 0 - words: ['SEMYLG']]            1\n",
       "       999        [Object: 0 - words: ['SEMYLG']]            1\n",
       "       1000       [Object: 0 - words: ['SEMYLG']]            1\n",
       "\n",
       "[1000000 rows x 2 columns]"
      ]
     },
     "execution_count": 10,
     "metadata": {},
     "output_type": "execute_result"
    }
   ],
   "source": [
    "single_run1_agent_data"
   ]
  },
  {
   "cell_type": "code",
   "execution_count": 11,
   "metadata": {},
   "outputs": [
    {
     "data": {
      "text/html": [
       "<div>\n",
       "<style scoped>\n",
       "    .dataframe tbody tr th:only-of-type {\n",
       "        vertical-align: middle;\n",
       "    }\n",
       "\n",
       "    .dataframe tbody tr th {\n",
       "        vertical-align: top;\n",
       "    }\n",
       "\n",
       "    .dataframe thead th {\n",
       "        text-align: right;\n",
       "    }\n",
       "</style>\n",
       "<table border=\"1\" class=\"dataframe\">\n",
       "  <thead>\n",
       "    <tr style=\"text-align: right;\">\n",
       "      <th></th>\n",
       "      <th>Success_rate</th>\n",
       "      <th>Total_word_amount</th>\n",
       "      <th>Total_unique_word_amount</th>\n",
       "    </tr>\n",
       "  </thead>\n",
       "  <tbody>\n",
       "    <tr>\n",
       "      <th>0</th>\n",
       "      <td>0.000000e+00</td>\n",
       "      <td>189.601148</td>\n",
       "      <td>90.601148</td>\n",
       "    </tr>\n",
       "    <tr>\n",
       "      <th>1</th>\n",
       "      <td>0.000000e+00</td>\n",
       "      <td>358.362215</td>\n",
       "      <td>159.362215</td>\n",
       "    </tr>\n",
       "    <tr>\n",
       "      <th>2</th>\n",
       "      <td>1.192093e-09</td>\n",
       "      <td>522.602472</td>\n",
       "      <td>223.602473</td>\n",
       "    </tr>\n",
       "    <tr>\n",
       "      <th>3</th>\n",
       "      <td>1.192093e-09</td>\n",
       "      <td>674.492450</td>\n",
       "      <td>275.492451</td>\n",
       "    </tr>\n",
       "    <tr>\n",
       "      <th>4</th>\n",
       "      <td>3.906251e-04</td>\n",
       "      <td>817.311748</td>\n",
       "      <td>318.389874</td>\n",
       "    </tr>\n",
       "    <tr>\n",
       "      <th>...</th>\n",
       "      <td>...</td>\n",
       "      <td>...</td>\n",
       "      <td>...</td>\n",
       "    </tr>\n",
       "    <tr>\n",
       "      <th>995</th>\n",
       "      <td>1.000000e+00</td>\n",
       "      <td>1000.000000</td>\n",
       "      <td>1.000000</td>\n",
       "    </tr>\n",
       "    <tr>\n",
       "      <th>996</th>\n",
       "      <td>1.000000e+00</td>\n",
       "      <td>1000.000000</td>\n",
       "      <td>1.000000</td>\n",
       "    </tr>\n",
       "    <tr>\n",
       "      <th>997</th>\n",
       "      <td>1.000000e+00</td>\n",
       "      <td>1000.000000</td>\n",
       "      <td>1.000000</td>\n",
       "    </tr>\n",
       "    <tr>\n",
       "      <th>998</th>\n",
       "      <td>1.000000e+00</td>\n",
       "      <td>1000.000000</td>\n",
       "      <td>1.000000</td>\n",
       "    </tr>\n",
       "    <tr>\n",
       "      <th>999</th>\n",
       "      <td>1.000000e+00</td>\n",
       "      <td>1000.000000</td>\n",
       "      <td>1.000000</td>\n",
       "    </tr>\n",
       "  </tbody>\n",
       "</table>\n",
       "<p>1000 rows × 3 columns</p>\n",
       "</div>"
      ],
      "text/plain": [
       "     Success_rate  Total_word_amount  Total_unique_word_amount\n",
       "0    0.000000e+00         189.601148                 90.601148\n",
       "1    0.000000e+00         358.362215                159.362215\n",
       "2    1.192093e-09         522.602472                223.602473\n",
       "3    1.192093e-09         674.492450                275.492451\n",
       "4    3.906251e-04         817.311748                318.389874\n",
       "..            ...                ...                       ...\n",
       "995  1.000000e+00        1000.000000                  1.000000\n",
       "996  1.000000e+00        1000.000000                  1.000000\n",
       "997  1.000000e+00        1000.000000                  1.000000\n",
       "998  1.000000e+00        1000.000000                  1.000000\n",
       "999  1.000000e+00        1000.000000                  1.000000\n",
       "\n",
       "[1000 rows x 3 columns]"
      ]
     },
     "execution_count": 11,
     "metadata": {},
     "output_type": "execute_result"
    }
   ],
   "source": [
    "model_df"
   ]
  },
  {
   "cell_type": "markdown",
   "metadata": {},
   "source": [
    "Create Graphs and Figures"
   ]
  },
  {
   "cell_type": "code",
   "execution_count": 12,
   "metadata": {},
   "outputs": [
    {
     "data": {
      "image/png": "[encoded data removed]",
      "text/plain": [
       "<Figure size 640x480 with 4 Axes>"
      ]
     },
     "metadata": {},
     "output_type": "display_data"
    }
   ],
   "source": [
    "from mpl_toolkits.axes_grid1.inset_locator import inset_axes, mark_inset\n",
    "\n",
    "model_df[\"scaled_index\"] = model_df.index * 100\n",
    "single_run1_model_data[\"scaled_index\"] = single_run1_model_data.index * 100\n",
    "single_run2_model_data[\"scaled_index\"] = single_run2_model_data.index * 100\n",
    "fig, axs = plt.subplots(nrows=3)\n",
    "\n",
    "#figure showing all total words over time\n",
    "g = sns.lineplot(data=single_run1_model_data[[\"Total_word_amount\", \"scaled_index\"]], x=\"scaled_index\", y=\"Total_word_amount\", \n",
    "                 ax=axs[0], color=\"red\", linewidth=1)\n",
    "g = sns.lineplot(data=single_run2_model_data[[\"Total_word_amount\", \"scaled_index\"]], x=\"scaled_index\", y=\"Total_word_amount\", \n",
    "                 ax=axs[0], color=\"red\", linewidth=1)\n",
    "g = sns.lineplot(data=model_df[[\"Total_word_amount\", \"scaled_index\"]], x=\"scaled_index\", y=\"Total_word_amount\", \n",
    "                 ax=axs[0], color=\"black\", linewidth=2)\n",
    "g.set(title=\"Total amount of words over Time\", ylabel=\"Total words\", xlabel=\"Time\")\n",
    "\n",
    "#figure showing all unique words over time\n",
    "g = sns.lineplot(data=single_run1_model_data[[\"Total_unique_word_amount\", \"scaled_index\"]], x=\"scaled_index\", y=\"Total_unique_word_amount\", \n",
    "                 ax=axs[1], color=\"brown\", linewidth=1)\n",
    "g = sns.lineplot(data=single_run2_model_data[[\"Total_unique_word_amount\", \"scaled_index\"]], x=\"scaled_index\", y=\"Total_unique_word_amount\", \n",
    "                 ax=axs[1], color=\"brown\", linewidth=1)\n",
    "g = sns.lineplot(data=model_df[[\"Total_unique_word_amount\", \"scaled_index\"]], x=\"scaled_index\", y=\"Total_unique_word_amount\", \n",
    "                 ax=axs[1], color=\"black\", linewidth=2)\n",
    "g.set(title=\"Total amount of unique words over Time\", ylabel=\"Total unique words\", xlabel=\"Time\")\n",
    "\n",
    "#figure showing all successful interactions over time\n",
    "g = sns.lineplot(data=model_df[[\"Success_rate\", \"scaled_index\"]], x=\"scaled_index\", y=\"Success_rate\", \n",
    "                 ax=axs[2], color=\"black\", linewidth=2)\n",
    "g.set(title=\"Success rate over Time\", ylabel=\"Success rate\", xlabel=\"Time\")\n",
    "\n",
    "#smaller figure showing succesful interactions over time with overlaid s(t)=3t/N^2\n",
    "ax_inset = inset_axes(axs[2], width=\"85%\", height=\"85%\", loc='center left',\n",
    "                      bbox_to_anchor=(0.55, 0.3, 0.5, 0.5), bbox_transform=axs[2].transAxes)\n",
    "\n",
    "x = model_df[\"scaled_index\"]\n",
    "inset_y = model_df[\"Success_rate\"]\n",
    "y = 3 * x / N**2\n",
    "ax_inset.plot(x, inset_y, \n",
    "              color=\"black\", linewidth=2)\n",
    "ax_inset.plot(x, y, \n",
    "              color='lightgreen', label=r'$S(t) = 3*t/{N^2}$', linewidth=1)\n",
    "\n",
    "#zoom\n",
    "ax_inset.set_xlim(0, 40000)\n",
    "ax_inset.set_ylim(0, 0.2)\n",
    "ax_inset.tick_params(axis='both', labelsize=8)\n",
    "ax_inset.legend(fontsize=8)\n",
    "\n",
    "mark_inset(axs[2], ax_inset, loc1=2, loc2=4, fc=\"none\", ec=\"0.5\") #TODO ask if this is too messy\n",
    "\n",
    "plt.subplots_adjust(hspace=1)"
   ]
  },
  {
   "cell_type": "markdown",
   "metadata": {},
   "source": [
    "Run model configuration for figure 3"
   ]
  },
  {
   "cell_type": "code",
   "execution_count": null,
   "metadata": {},
   "outputs": [
    {
     "name": "stderr",
     "output_type": "stream",
     "text": [
      "/mnt/c/Users/Fabia/Documents/Studium/CMSS/CMSS_Exercises/.venv/lib/python3.12/site-packages/numpy/_core/function_base.py:302: RuntimeWarning: overflow encountered in power\n",
      "  return _nx.power(base, y).astype(dtype, copy=False)\n",
      "/mnt/c/Users/Fabia/Documents/Studium/CMSS/CMSS_Exercises/.venv/lib/python3.12/site-packages/numpy/_core/function_base.py:302: RuntimeWarning: invalid value encountered in cast\n",
      "  return _nx.power(base, y).astype(dtype, copy=False)\n"
     ]
    },
    {
     "name": "stdout",
     "output_type": "stream",
     "text": [
      "Starting model iteration: 10000000000\n"
     ]
    }
   ],
   "source": [
    "n_log = np.logspace(1, 6, 10, base=10, dtype=int)\n",
    "n_st = [50, 100, 500, 1000, 5000, 10000, 50000, 100000]\n",
    "M = 1\n",
    "t = 100000\n",
    "\n",
    "model_lin_df = pd.DataFrame()\n",
    "model_log_df = pd.DataFrame()\n",
    "max_time_list = []\n",
    "conv_time_list = []\n",
    "\n",
    "for n in n_log:\n",
    "    _, model_data, max_time, conv_time  = run_model(N=n, M=M, t=t, iteration=n)\n",
    "    max_time_list.append(max_time)\n",
    "    conv_time_list.append(conv_time)\n",
    "\n",
    "    if model_lin_df.empty:\n",
    "        model_lin_df = model_data\n",
    "    else:\n",
    "        model_lin_df = (model_lin_df + model_data) / 2\n",
    "\n",
    "for n in n_st:\n",
    "    _, model_data, _, _ = run_model(N=n, M=M, t=t, iteration=n)\n",
    "\n",
    "    if model_log_df.empty:\n",
    "        model_log_df = model_data\n",
    "    else:\n",
    "        model_log_df = (model_log_df + model_data) / 2"
   ]
  }
 ],
 "metadata": {
  "kernelspec": {
   "display_name": ".venv",
   "language": "python",
   "name": "python3"
  },
  "language_info": {
   "codemirror_mode": {
    "name": "ipython",
    "version": 3
   },
   "file_extension": ".py",
   "mimetype": "text/x-python",
   "name": "python",
   "nbconvert_exporter": "python",
   "pygments_lexer": "ipython3",
   "version": "3.12.6"
  }
 },
 "nbformat": 4,
 "nbformat_minor": 2
}
