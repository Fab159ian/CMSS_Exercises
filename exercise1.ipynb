{
 "cells": [
  {
   "cell_type": "code",
   "execution_count": 2,
   "metadata": {},
   "outputs": [
    {
     "name": "stdout",
     "output_type": "stream",
     "text": [
      "Requirement already satisfied: numpy in ./.venv/lib/python3.12/site-packages (from -r requirements.txt (line 1)) (2.2.4)\n",
      "Requirement already satisfied: pandas in ./.venv/lib/python3.12/site-packages (from -r requirements.txt (line 2)) (2.2.3)\n",
      "Requirement already satisfied: seaborn in ./.venv/lib/python3.12/site-packages (from -r requirements.txt (line 3)) (0.13.2)\n",
      "Requirement already satisfied: mesa>3.0.0 in ./.venv/lib/python3.12/site-packages (from -r requirements.txt (line 4)) (3.1.5)\n",
      "Requirement already satisfied: python-dateutil>=2.8.2 in ./.venv/lib/python3.12/site-packages (from pandas->-r requirements.txt (line 2)) (2.9.0.post0)\n",
      "Requirement already satisfied: pytz>=2020.1 in ./.venv/lib/python3.12/site-packages (from pandas->-r requirements.txt (line 2)) (2025.2)\n",
      "Requirement already satisfied: tzdata>=2022.7 in ./.venv/lib/python3.12/site-packages (from pandas->-r requirements.txt (line 2)) (2025.2)\n",
      "Requirement already satisfied: matplotlib!=3.6.1,>=3.4 in ./.venv/lib/python3.12/site-packages (from seaborn->-r requirements.txt (line 3)) (3.10.1)\n",
      "Requirement already satisfied: scipy in ./.venv/lib/python3.12/site-packages (from mesa>3.0.0->-r requirements.txt (line 4)) (1.15.2)\n",
      "Requirement already satisfied: tqdm in ./.venv/lib/python3.12/site-packages (from mesa>3.0.0->-r requirements.txt (line 4)) (4.67.1)\n",
      "Requirement already satisfied: contourpy>=1.0.1 in ./.venv/lib/python3.12/site-packages (from matplotlib!=3.6.1,>=3.4->seaborn->-r requirements.txt (line 3)) (1.3.2)\n",
      "Requirement already satisfied: cycler>=0.10 in ./.venv/lib/python3.12/site-packages (from matplotlib!=3.6.1,>=3.4->seaborn->-r requirements.txt (line 3)) (0.12.1)\n",
      "Requirement already satisfied: fonttools>=4.22.0 in ./.venv/lib/python3.12/site-packages (from matplotlib!=3.6.1,>=3.4->seaborn->-r requirements.txt (line 3)) (4.57.0)\n",
      "Requirement already satisfied: kiwisolver>=1.3.1 in ./.venv/lib/python3.12/site-packages (from matplotlib!=3.6.1,>=3.4->seaborn->-r requirements.txt (line 3)) (1.4.8)\n",
      "Requirement already satisfied: packaging>=20.0 in ./.venv/lib/python3.12/site-packages (from matplotlib!=3.6.1,>=3.4->seaborn->-r requirements.txt (line 3)) (24.2)\n",
      "Requirement already satisfied: pillow>=8 in ./.venv/lib/python3.12/site-packages (from matplotlib!=3.6.1,>=3.4->seaborn->-r requirements.txt (line 3)) (11.2.1)\n",
      "Requirement already satisfied: pyparsing>=2.3.1 in ./.venv/lib/python3.12/site-packages (from matplotlib!=3.6.1,>=3.4->seaborn->-r requirements.txt (line 3)) (3.2.3)\n",
      "Requirement already satisfied: six>=1.5 in ./.venv/lib/python3.12/site-packages (from python-dateutil>=2.8.2->pandas->-r requirements.txt (line 2)) (1.17.0)\n",
      "Note: you may need to restart the kernel to use updated packages.\n"
     ]
    }
   ],
   "source": [
    "%pip install -r requirements.txt"
   ]
  },
  {
   "cell_type": "markdown",
   "metadata": {},
   "source": [
    "# Import Dependancies"
   ]
  },
  {
   "cell_type": "code",
   "execution_count": 3,
   "metadata": {},
   "outputs": [
    {
     "name": "stdout",
     "output_type": "stream",
     "text": [
      "Python 3.12.6\n",
      "mesa version: 3.1.5\n"
     ]
    }
   ],
   "source": [
    "#!/usr/bin/env python3.11\n",
    "!python --version\n",
    "\n",
    "import mesa\n",
    "print(f\"mesa version: {mesa.__version__}\")\n",
    "import numpy as np\n",
    "import pandas as pd\n",
    "import seaborn as sns"
   ]
  },
  {
   "cell_type": "markdown",
   "metadata": {},
   "source": [
    "# The Naming Game\n",
    "\n",
    "text"
   ]
  },
  {
   "cell_type": "code",
   "execution_count": 4,
   "metadata": {},
   "outputs": [],
   "source": [
    "# the naming game implementation\n",
    "# test change\n",
    "\n",
    "#mesa scheduler\n",
    "\n",
    "#mesa agent\n",
    "\n",
    "#mesa data analysis"
   ]
  },
  {
   "cell_type": "markdown",
   "metadata": {},
   "source": [
    "Create Random Word"
   ]
  },
  {
   "cell_type": "code",
   "execution_count": 5,
   "metadata": {},
   "outputs": [],
   "source": [
    "from random import choice\n",
    "from string import ascii_uppercase\n",
    "\n",
    "def create_word(min_length=6, max_length=10):\n",
    "    new_word = ''.join(choice(ascii_uppercase) for _ in range(np.random.randint(min_length, max_length)))\n",
    "    return new_word"
   ]
  },
  {
   "cell_type": "markdown",
   "metadata": {},
   "source": [
    "Create Agent"
   ]
  },
  {
   "cell_type": "code",
   "execution_count": 12,
   "metadata": {},
   "outputs": [],
   "source": [
    "from random import choice\n",
    "\n",
    "class NamingGameAgent(mesa.Agent):\n",
    "    def __init__(self, model, m_objects=1):\n",
    "        super().__init__(model)\n",
    "        self.m_objects_ = m_objects\n",
    "        self.memory = dict()\n",
    "\n",
    "    def choose_object_word(self):\n",
    "        chosen_object = choice(range(self.m_objects_))\n",
    "        if chosen_object in self.memory.keys():\n",
    "            chosen_word = choice(self.memory[chosen_object])\n",
    "        else:\n",
    "            chosen_word = create_word()\n",
    "            self.memory[chosen_object] = [chosen_word]\n",
    "        return chosen_object, chosen_word\n",
    "\n",
    "    def recognize_word(self, chosen_object, chosen_word):\n",
    "        if chosen_object not in self.memory.keys():\n",
    "            return False\n",
    "        if chosen_word in self.memory[chosen_object]:\n",
    "            return True\n",
    "        else:\n",
    "            return False\n",
    "\n",
    "    def update_memory(self, chosen_object, chosen_word):\n",
    "        self.memory[chosen_object] = [chosen_word]\n",
    "\n",
    "    def add_word(self, chosen_object, chosen_word):\n",
    "        if chosen_object not in self.memory.keys():\n",
    "            self.memory[chosen_object] = [chosen_word]\n",
    "        self.memory[chosen_object].append(chosen_word)"
   ]
  },
  {
   "cell_type": "markdown",
   "metadata": {},
   "source": [
    "Create Model"
   ]
  },
  {
   "cell_type": "code",
   "execution_count": 13,
   "metadata": {},
   "outputs": [],
   "source": [
    "from mesa.datacollection import DataCollector\n",
    "from random import sample\n",
    "\n",
    "class NamingGameModel(mesa.Model):\n",
    "    def __init__(self, N=100, m_objects=1, seed=None):\n",
    "        super().__init__(seed=seed)\n",
    "        self.num_agents = N\n",
    "        #TODO figure out schedulte stuff self.schedule = mesa.time.RandomActivation(self) if needed\n",
    "        #self.running = True\n",
    "        #TODO make datacollection better\n",
    "        self.datacollector = DataCollector(\n",
    "            agent_reporters={\"Memory\": \"memory\"}\n",
    "        )\n",
    "        self.m_objects = m_objects\n",
    "        NamingGameAgent.create_agents(model=self, n=N, m_objects=m_objects)\n",
    "    \n",
    "    def step(self):\n",
    "        self.datacollector.collect(self)\n",
    "        speaker, hearer = sample(self.agents, 2)\n",
    "        chosen_object, chosen_word = speaker.choose_object_word()\n",
    "        is_successful = hearer.recognize_word(chosen_object, chosen_word)\n",
    "        if is_successful:\n",
    "            speaker.update_memory(chosen_object, chosen_word)\n",
    "            hearer.update_memory(chosen_object, chosen_word)\n",
    "        else:\n",
    "            hearer.add_word(chosen_object, chosen_word)\n"
   ]
  },
  {
   "cell_type": "markdown",
   "metadata": {},
   "source": [
    "Run Model"
   ]
  },
  {
   "cell_type": "code",
   "execution_count": 14,
   "metadata": {},
   "outputs": [],
   "source": [
    "N = 100\n",
    "M = 1\n",
    "t = 10\n",
    "model = NamingGameModel(N, M)\n",
    "# run the model for 10 steps\n",
    "for i in range(t):\n",
    "    model.step()\n",
    "    #TODO datacollection here and after all runs"
   ]
  }
 ],
 "metadata": {
  "kernelspec": {
   "display_name": ".venv",
   "language": "python",
   "name": "python3"
  },
  "language_info": {
   "codemirror_mode": {
    "name": "ipython",
    "version": 3
   },
   "file_extension": ".py",
   "mimetype": "text/x-python",
   "name": "python",
   "nbconvert_exporter": "python",
   "pygments_lexer": "ipython3",
   "version": "3.12.6"
  }
 },
 "nbformat": 4,
 "nbformat_minor": 2
}
